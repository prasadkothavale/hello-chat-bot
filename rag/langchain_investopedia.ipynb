{
 "cells": [
  {
   "cell_type": "code",
   "execution_count": 24,
   "id": "45991f39-eb83-4fd5-becb-fd9c33895587",
   "metadata": {},
   "outputs": [],
   "source": [
    "from langchain.document_loaders import HuggingFaceDatasetLoader\n",
    "from langchain.text_splitter import RecursiveCharacterTextSplitter\n",
    "from langchain.vectorstores import FAISS\n",
    "from transformers import AutoTokenizer, AutoModelForQuestionAnswering\n",
    "from transformers import AutoTokenizer, pipeline\n",
    "from langchain.chains import RetrievalQA\n",
    "import sys\n",
    "import pandas as pd\n",
    "from langchain_huggingface import HuggingFacePipeline\n",
    "from langchain_huggingface import HuggingFaceEmbeddings\n",
    "import torch\n",
    "import os\n",
    "from langchain_core.documents import Document"
   ]
  },
  {
   "cell_type": "markdown",
   "id": "8b87ce3a-d66f-4a54-a101-548ccd2211a8",
   "metadata": {},
   "source": [
    "## Load Documents"
   ]
  },
  {
   "cell_type": "code",
   "execution_count": 2,
   "id": "99a1090d-3460-40f1-8416-52dc8c9aa2aa",
   "metadata": {},
   "outputs": [
    {
     "name": "stdout",
     "output_type": "stream",
     "text": [
      "Loaded 6286 documents\n",
      "\n",
      "Text 1:\n",
      "What Is the Volcker Rule? The Volcker Rule is a federal regulation that generally prohibits banks from conducting certain investment activities with their own accounts and limits their dealings with hedge funds and privateequity funds, also called covered ...\n",
      "\n",
      "Text 2:\n",
      "What Is a Global Registered Share (GRS)? A global registered share (GRS), or a global share, is a security that is issued in the United States, but it is registered in multiple markets around the world and trades in multiple currencies. With global shares,...\n",
      "\n",
      "Text 3:\n",
      "Volatility is a statistical measure of returns for a given security or market index.What Is Volatility? Volatility is a statistical measure of the dispersion of returns for a given security or market index. It is often measured from either the standard dev...\n",
      "\n",
      "Text 4:\n",
      "What Is a Bid? The term bid refers to an offer made by an individual orcorporationto purchase an asset. Buyers commonly make bids at auctions and in various markets, such as the stock market. Bids may also be made by companies that compete for project cont...\n",
      "\n",
      "Text 5:\n",
      "What Is Stock Compensation? Stock compensation is a way corporations usestock optionsto reward employees. Employees with stock options need to know whether their stock is vested and will retain its full value even if they are no longer employed with that c...\n",
      "\n"
     ]
    }
   ],
   "source": [
    "directory = \"../utils/investopedia-dictionary\"\n",
    "documents = []\n",
    "for filename in os.listdir(directory):\n",
    "    if filename.endswith(\".txt\"):\n",
    "        file_path = os.path.join(directory, filename)\n",
    "        with open(file_path, 'r', encoding='utf-8') as file:\n",
    "            document = Document(page_content=file.read(), metadata={\"source\": filename[:-4]})\n",
    "            documents.append(document)\n",
    "\n",
    "print(f'Loaded {len(documents)} documents\\n')\n",
    "# Print the first few entries as a sample\n",
    "for i, document in enumerate(documents[:5]):\n",
    "    print(f\"Text {i+1}:\\n{document.page_content[:256]}...\\n\")  # Print the first 256 characters for preview"
   ]
  },
  {
   "cell_type": "code",
   "execution_count": 3,
   "id": "60d70bdd-fddb-418e-8267-af0172233d00",
   "metadata": {},
   "outputs": [
    {
     "name": "stdout",
     "output_type": "stream",
     "text": [
      "Created 50676 fragments\n"
     ]
    }
   ],
   "source": [
    "text_splitter = RecursiveCharacterTextSplitter(chunk_size=1000, chunk_overlap=150)\n",
    "fragments = text_splitter.split_documents(documents)\n",
    "print(f'Created {len(fragments)} fragments')"
   ]
  },
  {
   "cell_type": "markdown",
   "id": "af18f8ab-e3de-4c1b-9b2c-986f7fd66bdc",
   "metadata": {},
   "source": [
    "## Document Transformation"
   ]
  },
  {
   "cell_type": "code",
   "execution_count": 4,
   "id": "e1e1aa65-8e30-49f8-8539-1fc76c550bc5",
   "metadata": {},
   "outputs": [
    {
     "name": "stderr",
     "output_type": "stream",
     "text": [
      "/home/prasad/tf-gpu/lib/python3.10/site-packages/torch/cuda/__init__.py:128: UserWarning: CUDA initialization: CUDA unknown error - this may be due to an incorrectly set up environment, e.g. changing env variable CUDA_VISIBLE_DEVICES after program start. Setting the available devices to be zero. (Triggered internally at ../c10/cuda/CUDAFunctions.cpp:108.)\n",
      "  return torch._C._cuda_getDeviceCount() > 0\n"
     ]
    }
   ],
   "source": [
    "device = torch.device(\"cuda\" if torch.cuda.is_available() else \"cpu\")\n",
    "\n",
    "embeddings = HuggingFaceEmbeddings(\n",
    "    model_name=\"sentence-transformers/all-MiniLM-l12-v2\",     # Provide the pre-trained model's path\n",
    "    model_kwargs={'device':device}, # Pass the model configuration options\n",
    "    encode_kwargs={'normalize_embeddings': False} # Pass the encoding options\n",
    ")\n",
    "\n",
    "db = FAISS.from_documents(fragments, embeddings)\n",
    "# db = FAISS.load_local(save_directory, embeddings) ##untested##"
   ]
  },
  {
   "cell_type": "markdown",
   "id": "bee37e63-89b5-4e1e-a2a1-75f9e5bcb236",
   "metadata": {},
   "source": [
    "### Test Document Retrieval"
   ]
  },
  {
   "cell_type": "code",
   "execution_count": 5,
   "id": "7739f104-6d8f-41c0-a89b-22704ff84b45",
   "metadata": {},
   "outputs": [
    {
     "name": "stdout",
     "output_type": "stream",
     "text": [
      "from the income the fund has earned by the securities they hold. If the fund holds bonds, then it will earn interest on them.However, returns are not guaranteed, and the performance of a mutual fund depends on market conditions, the fund's management, what assets it holds, and its investment strategy.What Are the Risks of Mutual Funds?Depending on the assets they hold, mutual funds carry several investment risks, including market, interest rate, andmanagement risk. Market risk arises from the potential decline in the value of the securities within the fund. Interest rate risk affects funds holding bonds and other fixed-income securities, as rising interest rates can lead to a decrease in bond prices.Management risk is linked to the performance of the fund's management team. You are putting your money in their hands, and poor investment decisions will negatively impact your returns. Before investing, it's important for investors to carefully review the fund's prospectus and consider\n"
     ]
    }
   ],
   "source": [
    "question = \"Are mutual funds safe investment?\"\n",
    "searchDocs = db.similarity_search(question)\n",
    "print(searchDocs[0].page_content)"
   ]
  },
  {
   "cell_type": "markdown",
   "id": "0586e899-c357-4795-8369-8a86e01a0130",
   "metadata": {},
   "source": [
    "## Preparing the LLM Model"
   ]
  },
  {
   "cell_type": "code",
   "execution_count": 9,
   "id": "86248084-24ec-425c-b1a5-bf63ab4ad49e",
   "metadata": {},
   "outputs": [],
   "source": [
    "llm_model_name = \"Intel/dynamic_tinybert\"\n",
    "\n",
    "# Create a tokenizer object by loading the pretrained \"Intel/dynamic_tinybert\" tokenizer.\n",
    "tokenizer = AutoTokenizer.from_pretrained(llm_model_name)\n",
    "\n",
    "# Create a question-answering model object by loading the pretrained \"Intel/dynamic_tinybert\" model.\n",
    "model = AutoModelForQuestionAnswering.from_pretrained(llm_model_name)\n",
    "\n",
    "# Define a question-answering pipeline using the model and tokenizer\n",
    "question_answerer = pipeline(\n",
    "    \"question-answering\", \n",
    "    model=llm_model_name, \n",
    "    tokenizer=tokenizer,\n",
    "    return_tensors='pt',\n",
    "    device=device\n",
    ")\n",
    "\n",
    "# Create an instance of the HuggingFacePipeline, which wraps the question-answering pipeline\n",
    "# with additional model-specific arguments (temperature and max_length)\n",
    "llm = HuggingFacePipeline(\n",
    "    pipeline=question_answerer,\n",
    "    model_kwargs={\"temperature\": 0.9, \"max_length\": 512},\n",
    ")"
   ]
  },
  {
   "cell_type": "markdown",
   "id": "858480ae-ddaa-433e-9f2b-ead04dc4a1b0",
   "metadata": {},
   "source": [
    "### Retrieval QA Chain"
   ]
  },
  {
   "cell_type": "code",
   "execution_count": 10,
   "id": "2c71d980-f72c-40b5-8077-8929fa8a6141",
   "metadata": {},
   "outputs": [],
   "source": [
    "# Create a retriever object from the 'db' with a search configuration where it retrieves up to 4 relevant splits/documents.\n",
    "retriever = db.as_retriever(search_kwargs={\"k\": 4})\n",
    "\n",
    "# Create a question-answering instance (qa) using the RetrievalQA class.\n",
    "# It's configured with a language model (llm), a chain type \"refine,\" the retriever we created, and an option to not return source documents.\n",
    "qa = RetrievalQA.from_chain_type(llm=llm, chain_type=\"refine\", retriever=retriever, return_source_documents=False)"
   ]
  },
  {
   "cell_type": "code",
   "execution_count": 11,
   "id": "866b1e3c-8eda-4fc5-983e-3a0f97753322",
   "metadata": {},
   "outputs": [],
   "source": [
    "def err_remove(er):\n",
    "    lin = \"------------\"\n",
    "    er = str(er)\n",
    "    start_index = er.find(lin) + len(lin)\n",
    "    end_index = er.rfind(lin)\n",
    "    answer = er[start_index:end_index].strip()\n",
    "    return answer"
   ]
  },
  {
   "cell_type": "code",
   "execution_count": 20,
   "id": "5677631e-632c-4859-8bc2-d9aeceee509d",
   "metadata": {},
   "outputs": [
    {
     "name": "stdout",
     "output_type": "stream",
     "text": [
      "The stock market is made up of investors buying, selling, and trading shares of companies, reflecting these firms' collective value and performance.The stock market as a whole is an exchange mechanism that helps investors buy and sell shares in publicly traded companies. Though you can visit the New York Stock Exchange (NYSE) and offices of the NASDAQ, these are just components in a broader marketplace. Trades are conducted mostly through electronic means between participants who are remote from each other. The mechanism is an excellent means for businesses to raise capital from investors. Additionally, analysts closely examine its traded prices for signals of economic strength or weakness.Key TakeawaysThe stock market is defined as the collective trading network involving company shares and their derivatives.The stock market, is a central part of modern economies since it's where companies raise vast sums of money to accelerate successful startups, expand existing businesses, or\n"
     ]
    }
   ],
   "source": [
    "question = \"What is stock exchange?\"\n",
    "answer = None\n",
    "try:\n",
    "    result = qa.invoke({\"query\": question})\n",
    "    answer = result[\"result\"]\n",
    "except:\n",
    "    _,error,_ = sys.exc_info()\n",
    "    #answer = err_remove(error).encode('utf-8').decode('unicode_escape')[1:]\n",
    "    answer = err_remove(error)\n",
    "\n",
    "print(answer)"
   ]
  },
  {
   "cell_type": "markdown",
   "id": "2cca1ac0-fc2a-4d30-8c69-0fdb71222335",
   "metadata": {},
   "source": [
    "## Save DB"
   ]
  },
  {
   "cell_type": "code",
   "execution_count": 23,
   "id": "756ff442-9c06-433f-bd45-6274794df1d3",
   "metadata": {},
   "outputs": [],
   "source": [
    "db.save_local('./models/investopedia_faiss')"
   ]
  }
 ],
 "metadata": {
  "kernelspec": {
   "display_name": "Python 3 (ipykernel)",
   "language": "python",
   "name": "python3"
  },
  "language_info": {
   "codemirror_mode": {
    "name": "ipython",
    "version": 3
   },
   "file_extension": ".py",
   "mimetype": "text/x-python",
   "name": "python",
   "nbconvert_exporter": "python",
   "pygments_lexer": "ipython3",
   "version": "3.10.12"
  }
 },
 "nbformat": 4,
 "nbformat_minor": 5
}
