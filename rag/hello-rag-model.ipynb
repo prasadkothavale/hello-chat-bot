{
 "cells": [
  {
   "cell_type": "markdown",
   "id": "165c9375-8f7f-493d-aa68-80ffccc267e6",
   "metadata": {},
   "source": [
    "# RAG Model\n",
    "Reference: https://medium.com/@mourya.dwarapudi/implementing-the-rag-model-a-step-by-step-guide-5deb4e7b9dde"
   ]
  },
  {
   "cell_type": "code",
   "execution_count": 1,
   "id": "87ad21d8-c408-4ecf-8525-4e0096f27a24",
   "metadata": {},
   "outputs": [],
   "source": [
    "import os\n",
    "import faiss\n",
    "import numpy as np\n",
    "import torch\n",
    "from transformers import AutoTokenizer, AutoModel, AutoModelForSeq2SeqLM\n",
    "from tqdm import tqdm"
   ]
  },
  {
   "cell_type": "markdown",
   "id": "8bfd2abf-921e-46d8-b670-69cb04804262",
   "metadata": {},
   "source": [
    "## Load Corpus"
   ]
  },
  {
   "cell_type": "code",
   "execution_count": 13,
   "id": "4c9396f0-c779-4743-ab74-c643ac1a44a1",
   "metadata": {},
   "outputs": [
    {
     "name": "stdout",
     "output_type": "stream",
     "text": [
      "Text 1:\n",
      "What Is the Volcker Rule? The Volcker Rule is a federal regulation that generally prohibits banks from conducting certain investment activities with their own accounts and limits their dealings with h...\n",
      "\n",
      "Text 2:\n",
      "What Is a Global Registered Share (GRS)? A global registered share (GRS), or a global share, is a security that is issued in the United States, but it is registered in multiple markets around the worl...\n",
      "\n",
      "Text 3:\n",
      "Volatility is a statistical measure of returns for a given security or market index.What Is Volatility? Volatility is a statistical measure of the dispersion of returns for a given security or market ...\n",
      "\n",
      "Text 4:\n",
      "What Is a Bid? The term bid refers to an offer made by an individual orcorporationto purchase an asset. Buyers commonly make bids at auctions and in various markets, such as the stock market. Bids may...\n",
      "\n",
      "Text 5:\n",
      "What Is Stock Compensation? Stock compensation is a way corporations usestock optionsto reward employees. Employees with stock options need to know whether their stock is vested and will retain its fu...\n",
      "\n"
     ]
    }
   ],
   "source": [
    "directory = \"../utils/investopedia-dictionary\"\n",
    "corpus = []\n",
    "for filename in os.listdir(directory):\n",
    "    if filename.endswith(\".txt\"):\n",
    "        file_path = os.path.join(directory, filename)\n",
    "        with open(file_path, 'r', encoding='utf-8') as file:\n",
    "            corpus.append(file.read())\n",
    "\n",
    "corpus = corpus[:100]\n",
    "\n",
    "# Print the first few entries as a sample\n",
    "for i, text in enumerate(corpus[:5]):\n",
    "    print(f\"Text {i+1}:\\n{text[:200]}...\\n\")  # Print the first 200 characters for preview"
   ]
  },
  {
   "cell_type": "markdown",
   "id": "fb8007b9-4e78-4a2f-9db5-220e474e0b43",
   "metadata": {},
   "source": [
    "## Set up the retriever (dense vector indexing with Faiss)"
   ]
  },
  {
   "cell_type": "code",
   "execution_count": 3,
   "id": "5b8505d3-84bc-4a3f-9578-3c06f452be4f",
   "metadata": {},
   "outputs": [],
   "source": [
    "model_name = 'bert-base-uncased'\n",
    "tokenizer = AutoTokenizer.from_pretrained(model_name)\n",
    "model = AutoModel.from_pretrained(model_name)"
   ]
  },
  {
   "cell_type": "markdown",
   "id": "855a049c-a3d0-4666-8e9b-be0a81349a7f",
   "metadata": {},
   "source": [
    "### Encode the corpus using the pre-trained model"
   ]
  },
  {
   "cell_type": "code",
   "execution_count": 5,
   "id": "dc1220fe-682f-4a05-90f2-0f7d9a4ac4d7",
   "metadata": {},
   "outputs": [
    {
     "name": "stderr",
     "output_type": "stream",
     "text": [
      "100%|█████████████████████████████████████████████████████████████████████████████████████████████████████████████████████████| 100/100 [00:16<00:00,  5.95it/s]\n"
     ]
    }
   ],
   "source": [
    "corpus_embeddings = []\n",
    "for doc in tqdm(corpus, total=len(corpus)):\n",
    "    inputs = tokenizer(doc, return_tensors=\"pt\", padding=True, truncation=True)\n",
    "    with torch.no_grad():\n",
    "        outputs = model(**inputs)\n",
    "        embeddings = outputs.last_hidden_state.mean(dim=1).squeeze().numpy()\n",
    "        corpus_embeddings.append(embeddings)"
   ]
  },
  {
   "cell_type": "markdown",
   "id": "939fac90-af9f-4e78-8808-9d2f64f87e34",
   "metadata": {},
   "source": [
    "### Build the Faiss index"
   ]
  },
  {
   "cell_type": "code",
   "execution_count": 6,
   "id": "7314c0dc-33e9-40cc-9d04-d35583c6c29c",
   "metadata": {},
   "outputs": [],
   "source": [
    "index = faiss.IndexFlatIP(embeddings.shape[0])\n",
    "index = faiss.IndexIDMap(index)\n",
    "index.add_with_ids(np.array(corpus_embeddings), np.arange(len(corpus)))"
   ]
  },
  {
   "cell_type": "markdown",
   "id": "c835cd7c-f376-47d8-91fa-7ee9a791bb55",
   "metadata": {},
   "source": [
    "## Set up the generative language model"
   ]
  },
  {
   "cell_type": "code",
   "execution_count": 7,
   "id": "06256add-36cf-4a79-9cb1-62b633111ab9",
   "metadata": {},
   "outputs": [],
   "source": [
    "gen_model_name = 't5-base'\n",
    "gen_tokenizer = AutoTokenizer.from_pretrained(gen_model_name)\n",
    "gen_model = AutoModelForSeq2SeqLM.from_pretrained(gen_model_name)"
   ]
  },
  {
   "cell_type": "markdown",
   "id": "ff1dee72-a600-4a79-a79d-7f143c0adf5d",
   "metadata": {},
   "source": [
    "## Query"
   ]
  },
  {
   "cell_type": "code",
   "execution_count": 14,
   "id": "714a5bb8-9de5-47ab-9358-09aa2ece1745",
   "metadata": {},
   "outputs": [],
   "source": [
    "query = \"regulation that generally prohibits banks from conducting certain investment\""
   ]
  },
  {
   "cell_type": "markdown",
   "id": "d0165abe-74bc-4819-85f0-777922d36812",
   "metadata": {},
   "source": [
    "## Retrieve relevant documents"
   ]
  },
  {
   "cell_type": "code",
   "execution_count": 15,
   "id": "c31ff94e-698e-4e02-8cd5-e3b2a97a85ad",
   "metadata": {},
   "outputs": [],
   "source": [
    "k = 5\n",
    "inputs = tokenizer(query, return_tensors=\"pt\", padding=True, truncation=True)\n",
    "with torch.no_grad():\n",
    "    outputs = model(**inputs)\n",
    "    query_embedding = outputs.last_hidden_state.mean(dim=1).squeeze().numpy()\n",
    "\n",
    "# Search the Faiss index for the top-k relevant documents\n",
    "scores, doc_ids = index.search(np.array([query_embedding]), k)\n",
    "documents = [corpus[doc_id] for doc_id in doc_ids[0]]"
   ]
  },
  {
   "cell_type": "code",
   "execution_count": 16,
   "id": "a90ea2c8-19b5-48a7-9a9e-0f63197adb35",
   "metadata": {},
   "outputs": [
    {
     "name": "stdout",
     "output_type": "stream",
     "text": [
      "Found 5 documents\n",
      "Text 1:\n",
      "What Is Bank Capital? Bank capital is the difference between abank's assets and its liabilities, and it represents the net worth of the bank or its equity value to investors. The asset portion of a ba...\n",
      "\n",
      "Text 2:\n",
      "What Is a Loan Shark? A loan shark is a person whoor an entity thatloans money at extremely high interest rates and often uses threats of violence to collect debts. The interest rates are generally we...\n",
      "\n",
      "Text 3:\n",
      "What Is a Variable Interest Entity (VIE)? A variable interest entity (VIE) is a legal structure in which controlling interest is determined by something other than majority voting rights. Controlling ...\n",
      "\n",
      "Text 4:\n",
      "What Is the Earnings Credit Rate (ECR)? The earnings credit rate (ECR) is a daily calculation of interest that a bank pays on customer deposits. The earnings credit rate is often correlated with the U...\n",
      "\n",
      "Text 5:\n",
      "What Is an Investment Banker? Investment bankers are financial professionals who advise corporations, as well as governments or other entities. They help these clients raisecapital(money) by issuing s...\n",
      "\n"
     ]
    }
   ],
   "source": [
    "print(f'Found {len(documents)} documents')\n",
    "# Print the first few entries as a sample\n",
    "for i, text in enumerate(documents):\n",
    "    print(f\"Text {i+1}:\\n{text[:200]}...\\n\")  # Print the first 200 characters for preview"
   ]
  },
  {
   "cell_type": "markdown",
   "id": "346fa8af-f4b2-4484-a942-feec200e8ce4",
   "metadata": {},
   "source": [
    "## Generate the response"
   ]
  },
  {
   "cell_type": "code",
   "execution_count": 17,
   "id": "ae450a6e-66f2-4e81-8b21-dafc2ef42257",
   "metadata": {},
   "outputs": [
    {
     "name": "stdout",
     "output_type": "stream",
     "text": [
      "its assets and liabilities.Tier 2 capital is the total capital of the bank. This is the difference between a bank's assets and its liabilities.Tier 1 capital is the net worth of the bank or its equity value to investors.Tier 2 capital is the total capital of the bank's assets and liabilities.Tier 1 capital is the book value of shareholders' equity and any non-interest-bearing assets.Tier 2 capital is the net worth of the bank or its equity.\n"
     ]
    }
   ],
   "source": [
    "inputs = gen_tokenizer(query, '\\n'.join(documents), return_tensors=\"pt\", padding=True, truncation=True)\n",
    "with torch.no_grad():\n",
    "    outputs = gen_model.generate(**inputs, max_length=512, num_beams=4, early_stopping=True)\n",
    "response = gen_tokenizer.batch_decode(outputs, skip_special_tokens=True)[0]\n",
    "print(response)"
   ]
  },
  {
   "cell_type": "code",
   "execution_count": null,
   "id": "f302d97b-0566-41ad-8d22-cfd1b5d9e113",
   "metadata": {},
   "outputs": [],
   "source": []
  }
 ],
 "metadata": {
  "kernelspec": {
   "display_name": "Python 3 (ipykernel)",
   "language": "python",
   "name": "python3"
  },
  "language_info": {
   "codemirror_mode": {
    "name": "ipython",
    "version": 3
   },
   "file_extension": ".py",
   "mimetype": "text/x-python",
   "name": "python",
   "nbconvert_exporter": "python",
   "pygments_lexer": "ipython3",
   "version": "3.10.12"
  }
 },
 "nbformat": 4,
 "nbformat_minor": 5
}
